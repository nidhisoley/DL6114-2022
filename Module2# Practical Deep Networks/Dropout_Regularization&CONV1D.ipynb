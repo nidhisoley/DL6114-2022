{
 "cells": [
  {
   "cell_type": "markdown",
   "metadata": {
    "id": "cEOScewhXaNW"
   },
   "source": [
    "## Copyright Note\n",
    "\n",
    "\n",
    "**This lecture mainly examples are adapted from wiki and internet resources. Also, most of figures are from Reference 1--chapter 14** \n",
    "\n",
    "## Deep Learning Reference 1\n",
    "**Most of the deep learning and convolution neural network materials' figures, definitions, and examples are courtesy of or adapted from the following book**: Hands-On Machine Learning with Scikit-Learn, Keras, and TensorFlow: Concepts, Tools, and Techniques to Build Intelligent Systems 2nd Edition\n",
    "by Aurélien Géron  (Author)[ relative links](https://www.amazon.com/Hands-Machine-Learning-Scikit-Learn-TensorFlow/dp/1492032646)\n"
   ]
  },
  {
   "cell_type": "markdown",
   "metadata": {
    "id": "WiiyHk1GLu1_"
   },
   "source": [
    "## Learning concepts:\n",
    "\n",
    "1. Last lecture review.\n",
    "2. CNN example with droupout.\n",
    "3. Functional Wrapper to develop Conv2D\n",
    "4. Conv1D"
   ]
  },
  {
   "cell_type": "markdown",
   "metadata": {},
   "source": [
    "# [Paper uses CNN over clinical dataset](https://www.sciencedirect.com/science/article/pii/S1532046420301933)"
   ]
  },
  {
   "cell_type": "code",
   "execution_count": null,
   "metadata": {
    "colab": {
     "base_uri": "https://localhost:8080/"
    },
    "id": "sXnDmXR7RDr2",
    "outputId": "d8ed4147-f9db-463e-dfd9-42361ef5477a"
   },
   "outputs": [],
   "source": [
    "import tensorflow as tf"
   ]
  },
  {
   "cell_type": "markdown",
   "metadata": {
    "id": "MMLQKxwda_vl"
   },
   "source": [
    "# Fashion-MNIST database of fashion articles\n",
    "\n",
    "Dataset of 60,000 28x28 grayscale images of 10 fashion categories, along with a test set of 10,000 images. This dataset can be used as a drop-in replacement for MNIST. The class labels are:\n",
    "\n",
    "Label\t          Description       \n",
    "0\tT-shirt/top      \n",
    "1\tTrouser     \n",
    "2\tPullover    \n",
    "3\tDress     \n",
    "4\tCoat    \n",
    "5\tSandal  \n",
    "6\tShirt   \n",
    "7\tSneaker    \n",
    "8\tBag     \n",
    "9\tAnkle boot  "
   ]
  },
  {
   "cell_type": "code",
   "execution_count": null,
   "metadata": {
    "colab": {
     "base_uri": "https://localhost:8080/"
    },
    "id": "ITch7Fsfa7D7",
    "outputId": "a12598ab-8721-4ef8-ba15-7eeedab05062"
   },
   "outputs": [],
   "source": [
    "#Load the data\n",
    "\n",
    "\n",
    "from keras.datasets import fashion_mnist\n",
    "(train_X,train_Y), (test_X,test_Y) = fashion_mnist.load_data()"
   ]
  },
  {
   "cell_type": "code",
   "execution_count": null,
   "metadata": {
    "colab": {
     "base_uri": "https://localhost:8080/"
    },
    "id": "jYTBcfmXbm_O",
    "outputId": "c2bf93be-9f28-4587-c060-ebfb71754409"
   },
   "outputs": [],
   "source": [
    "print('Training data shape : ', train_X.shape, train_Y.shape)\n",
    "print('Testing data shape : ', test_X.shape, test_Y.shape)"
   ]
  },
  {
   "cell_type": "code",
   "execution_count": null,
   "metadata": {
    "id": "zMFOMdWsbY_t"
   },
   "outputs": [],
   "source": [
    "import numpy as np\n",
    "from tensorflow import keras\n",
    "from tensorflow.keras.utils import to_categorical\n",
    "from keras import layers\n",
    "from keras import models\n",
    "import matplotlib.pyplot as plt\n",
    "%matplotlib inline"
   ]
  },
  {
   "cell_type": "code",
   "execution_count": null,
   "metadata": {
    "colab": {
     "base_uri": "https://localhost:8080/"
    },
    "id": "gOpzMKstbvBJ",
    "outputId": "739cfdf9-554e-4d10-c735-c136cfe6cc50"
   },
   "outputs": [],
   "source": [
    "# Find the unique numbers from the train labels\n",
    "classes = np.unique(train_Y)\n",
    "nClasses = len(classes)\n",
    "print('Total number of outputs : ', nClasses)\n",
    "print('Output classes : ', classes)"
   ]
  },
  {
   "cell_type": "markdown",
   "metadata": {
    "id": "ysyPwNZi5fhn"
   },
   "source": [
    "To calculate the learnable parameters in Conv2D, all we have to do is just multiply the by the shape of width m, height n, previous layer’s filters d and account for all such filters k in the current layer. Don’t forget the bias term for each of the filter. Number of parameters in a CONV layer would be : ((m * n * d)+1)* k), added 1 because of the bias term for each filter. The same expression can be written as follows: ((shape of width of the filter * shape of height of the filter * number of filters in the previous layer+1)*number of filters). Where the term “filter” refer to the number of filters in the current layer.[link](https://towardsdatascience.com/understanding-and-calculating-the-number-of-parameters-in-convolution-neural-networks-cnns-fc88790d530d)"
   ]
  },
  {
   "cell_type": "code",
   "execution_count": null,
   "metadata": {
    "id": "wb59f1sXb1p_"
   },
   "outputs": [],
   "source": [
    "# Filters 32 and 64 and relu.. 3 layers\n",
    "\n",
    "# Feature extraction using Conv2D\n",
    "fashion_model = models.Sequential()\n",
    "fashion_model.add(layers.Conv2D(32, (3, 3), activation='relu', input_shape=(28, 28, 1)))\n",
    "fashion_model.add(layers.MaxPooling2D((2, 2)))\n",
    "fashion_model.add(layers.Conv2D(64, (3, 3), activation='relu'))\n",
    "fashion_model.add(layers.MaxPooling2D((2, 2)))\n",
    "fashion_model.add(layers.Conv2D(64, (3, 3), activation='relu'))\n",
    "\n",
    "# Classification using fully-connected NN\n",
    "fashion_model.add(layers.Flatten())\n",
    "fashion_model.add(layers.Dense(64, activation='relu'))        \n",
    "fashion_model.add(layers.Dense(10, activation='softmax'))"
   ]
  },
  {
   "cell_type": "code",
   "execution_count": null,
   "metadata": {
    "colab": {
     "base_uri": "https://localhost:8080/"
    },
    "id": "M9HEIyR4cKtQ",
    "outputId": "cfffb71d-28f4-4545-866b-7f8aecf15ad4"
   },
   "outputs": [],
   "source": [
    "fashion_model.summary()"
   ]
  },
  {
   "cell_type": "code",
   "execution_count": null,
   "metadata": {
    "colab": {
     "base_uri": "https://localhost:8080/"
    },
    "id": "E1nwl9fV-AFt",
    "outputId": "bb64959d-c410-42bd-f031-d94122dbeb77"
   },
   "outputs": [],
   "source": [
    "#What is -1 refers in the reshape\n",
    "\n",
    "train_X = train_X.reshape(-1, 28,28, 1)\n",
    "test_X = test_X.reshape(-1, 28,28, 1)\n",
    "train_X.shape, test_X.shape"
   ]
  },
  {
   "cell_type": "code",
   "execution_count": null,
   "metadata": {
    "id": "L7WggEMH_6ka"
   },
   "outputs": [],
   "source": [
    "train_X = train_X.astype('float32')\n",
    "test_X = test_X.astype('float32')\n",
    "train_X = train_X / 255.\n",
    "test_X = test_X / 255."
   ]
  },
  {
   "cell_type": "code",
   "execution_count": null,
   "metadata": {
    "colab": {
     "base_uri": "https://localhost:8080/"
    },
    "id": "6UQciUu4__8C",
    "outputId": "bb754e64-3292-4834-da97-bae38ebde259"
   },
   "outputs": [],
   "source": [
    "# Change the labels from categorical to one-hot encoding\n",
    "train_Y_one_hot = to_categorical(train_Y)\n",
    "test_Y_one_hot = to_categorical(test_Y)\n",
    "\n",
    "# Display the change for category label using one-hot encoding\n",
    "print('Original label:', train_Y[0])\n",
    "print('After conversion to one-hot:', train_Y_one_hot[0])"
   ]
  },
  {
   "cell_type": "code",
   "execution_count": null,
   "metadata": {
    "id": "DyUsPNizAFy8"
   },
   "outputs": [],
   "source": [
    "from sklearn.model_selection import train_test_split\n",
    "train_X,valid_X,train_label,valid_label = train_test_split(train_X, train_Y_one_hot, test_size=0.2, random_state=13)"
   ]
  },
  {
   "cell_type": "code",
   "execution_count": null,
   "metadata": {
    "colab": {
     "base_uri": "https://localhost:8080/"
    },
    "id": "54NiCWt_AJiB",
    "outputId": "f1afedd3-a145-4974-eeb4-addf734082de"
   },
   "outputs": [],
   "source": [
    "train_X.shape,valid_X.shape,train_label.shape,valid_label.shape"
   ]
  },
  {
   "cell_type": "code",
   "execution_count": null,
   "metadata": {
    "id": "mdVWWBl2AOSQ"
   },
   "outputs": [],
   "source": [
    "fashion_model.compile(loss=keras.losses.categorical_crossentropy, optimizer=keras.optimizers.Adam(),metrics=['accuracy'])"
   ]
  },
  {
   "cell_type": "code",
   "execution_count": null,
   "metadata": {
    "colab": {
     "base_uri": "https://localhost:8080/"
    },
    "id": "L6M6heruAeDL",
    "outputId": "2294dae3-dbfe-44f1-c747-4583a1d403f8"
   },
   "outputs": [],
   "source": [
    "fashion_model_train = fashion_model.fit(train_X, train_label, batch_size=64,epochs=20,verbose=1,validation_data=(valid_X, valid_label))"
   ]
  },
  {
   "cell_type": "code",
   "execution_count": null,
   "metadata": {
    "colab": {
     "base_uri": "https://localhost:8080/"
    },
    "id": "10eT1UW6AzHO",
    "outputId": "7be2c4a4-79e7-4312-c9bc-ab977d39a2b8"
   },
   "outputs": [],
   "source": [
    "test_eval = fashion_model.evaluate(test_X, test_Y_one_hot, verbose=0)\n",
    "print('Test loss:', test_eval[0])\n",
    "print('Test accuracy:', test_eval[1])"
   ]
  },
  {
   "cell_type": "code",
   "execution_count": null,
   "metadata": {
    "colab": {
     "base_uri": "https://localhost:8080/",
     "height": 545
    },
    "id": "eoE07xclA5U6",
    "outputId": "e3a5ef88-4586-4acd-f5cd-3a999472ebca"
   },
   "outputs": [],
   "source": [
    "import matplotlib.pyplot as plt\n",
    "accuracy = fashion_model_train.history[\"accuracy\"]\n",
    "val_accuracy = fashion_model_train.history[\"val_accuracy\"]\n",
    "loss = fashion_model_train.history['loss']\n",
    "val_loss = fashion_model_train.history['val_loss']\n",
    "epochs = range(len(accuracy))\n",
    "plt.plot(epochs, accuracy, 'bo', label='Training accuracy')\n",
    "plt.plot(epochs, val_accuracy, 'b', label='Validation accuracy')\n",
    "plt.title('Training and validation accuracy')\n",
    "plt.legend()\n",
    "plt.figure()\n",
    "plt.plot(epochs, loss, 'bo', label='Training loss')\n",
    "plt.plot(epochs, val_loss, 'b', label='Validation loss')\n",
    "plt.title('Training and validation loss')\n",
    "plt.legend()\n",
    "plt.show()"
   ]
  },
  {
   "cell_type": "markdown",
   "metadata": {
    "id": "8C0_eZNZ3EPg"
   },
   "source": [
    "# [Dropout Regularization]((https://arxiv.org/abs/1207.0580))\n",
    "\n",
    "At every training step, every neuron (including the input neurons, but always excluding the output neurons) has a probability p of being\n",
    "temporarily “dropped out,” meaning it will be entirely ignored during this training step, but it may be active during the next step. The hyperparameter p is called the dropout rate, and it is typically set to 50%. After training, neurons don’t get dropped anymore.\n",
    "![image.png](data:image/png;base64,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)[relative link](http://jmlr.org/papers/volume15/srivastava14a/srivastava14a.pdf)\n",
    "\n",
    "## Training Phase:\n",
    "Training Phase: For each hidden layer, for each training sample, for each iteration, ignore (zero out) a random fraction, p, of nodes (and corresponding activations).\n",
    "\n",
    "## Testing Phase:\n",
    "Use all activations, but reduce them by a factor p (to account for the missing activations during training).\n"
   ]
  },
  {
   "cell_type": "code",
   "execution_count": null,
   "metadata": {
    "id": "wzUh0jwj3I_m"
   },
   "outputs": [],
   "source": [
    "from tensorflow import keras\n",
    "import tensorflow as tf\n",
    "\n",
    "from keras.models import Sequential,Model\n",
    "from keras.layers import Dense, Dropout, Flatten\n",
    "from keras.layers import Conv2D, MaxPooling2D\n",
    "\n",
    "def lrelu(x,alpha):\n",
    "  return tf.nn.relu(x) - alpha * tf.nn.relu(-x)"
   ]
  },
  {
   "cell_type": "code",
   "execution_count": null,
   "metadata": {
    "id": "RawnQkCi3bNW"
   },
   "outputs": [],
   "source": [
    "batch_size = 64\n",
    "epochs = 20\n",
    "num_classes = 10\n",
    "fashion_model = Sequential()\n",
    "fashion_model.add(Conv2D(32, kernel_size=(3, 3),activation='linear',padding='same',input_shape=(28,28,1)))\n",
    "fashion_model.add(keras.layers.Lambda(lrelu,arguments={'alpha':0.1}))\n",
    "fashion_model.add(MaxPooling2D((2, 2),padding='same'))\n",
    "fashion_model.add(Dropout(0.25))\n",
    "fashion_model.add(Conv2D(64, (3, 3), activation='linear',padding='same'))\n",
    "fashion_model.add(keras.layers.Lambda(lrelu,arguments={'alpha':0.1}))\n",
    "fashion_model.add(MaxPooling2D(pool_size=(2, 2),padding='same'))\n",
    "fashion_model.add(Dropout(0.25))\n",
    "fashion_model.add(Conv2D(128, (3, 3), activation='linear',padding='same'))\n",
    "fashion_model.add(keras.layers.Lambda(lrelu,arguments={'alpha':0.1}))                  \n",
    "fashion_model.add(MaxPooling2D(pool_size=(2, 2),padding='same'))\n",
    "fashion_model.add(Dropout(0.4))\n",
    "fashion_model.add(Flatten())\n",
    "fashion_model.add(Dense(128, activation='linear'))\n",
    "fashion_model.add(keras.layers.Lambda(lrelu,arguments={'alpha':0.1}))         \n",
    "fashion_model.add(Dropout(0.3))\n",
    "fashion_model.add(Dense(num_classes, activation='softmax'))"
   ]
  },
  {
   "cell_type": "code",
   "execution_count": null,
   "metadata": {
    "colab": {
     "base_uri": "https://localhost:8080/"
    },
    "id": "p4m6UFI33kgP",
    "outputId": "b105f9eb-97f1-46cd-a735-0d75de9f6516"
   },
   "outputs": [],
   "source": [
    "fashion_model.summary()"
   ]
  },
  {
   "cell_type": "code",
   "execution_count": null,
   "metadata": {
    "id": "EbQioy8m4EQY"
   },
   "outputs": [],
   "source": [
    "fashion_model.compile(loss=keras.losses.categorical_crossentropy, optimizer=keras.optimizers.Adam(),metrics=['accuracy'])"
   ]
  },
  {
   "cell_type": "code",
   "execution_count": null,
   "metadata": {
    "colab": {
     "base_uri": "https://localhost:8080/"
    },
    "id": "1y2mhQ6c4RTK",
    "outputId": "59da6e32-a2be-4ed0-b3d4-3683834beea6"
   },
   "outputs": [],
   "source": [
    "fashion_train_dropout = fashion_model.fit(train_X, train_label, batch_size=batch_size,epochs=epochs,verbose=1,validation_data=(valid_X, valid_label))"
   ]
  },
  {
   "cell_type": "code",
   "execution_count": null,
   "metadata": {
    "colab": {
     "base_uri": "https://localhost:8080/"
    },
    "id": "AJZDEPjF5KhB",
    "outputId": "ab1f3582-302c-41c1-c87b-d0f9b16deb95"
   },
   "outputs": [],
   "source": [
    "test_eval = fashion_model.evaluate(test_X, test_Y_one_hot, verbose=1)\n",
    "print('Test loss:', test_eval[0])\n",
    "print('Test accuracy:', test_eval[1])"
   ]
  },
  {
   "cell_type": "code",
   "execution_count": null,
   "metadata": {
    "colab": {
     "base_uri": "https://localhost:8080/",
     "height": 545
    },
    "id": "_GWb1PAq5Rns",
    "outputId": "96f68f82-912d-4260-8b9f-31da02faee7e"
   },
   "outputs": [],
   "source": [
    "accuracy = fashion_train_dropout.history['accuracy']\n",
    "val_accuracy = fashion_train_dropout.history['val_accuracy']\n",
    "loss = fashion_train_dropout.history['loss']\n",
    "val_loss = fashion_train_dropout.history['val_loss']\n",
    "epochs = range(len(accuracy))\n",
    "plt.plot(epochs, accuracy, 'bo', label='Training accuracy')\n",
    "plt.plot(epochs, val_accuracy, 'b', label='Validation accuracy')\n",
    "plt.title('Training and validation accuracy')\n",
    "plt.legend()\n",
    "plt.figure()\n",
    "plt.plot(epochs, loss, 'bo', label='Training loss')\n",
    "plt.plot(epochs, val_loss, 'b', label='Validation loss')\n",
    "plt.title('Training and validation loss')\n",
    "plt.legend()\n",
    "plt.show()"
   ]
  },
  {
   "cell_type": "markdown",
   "metadata": {
    "id": "qNGBJkBCArqz"
   },
   "source": [
    "## Using Functional Wrapper"
   ]
  },
  {
   "cell_type": "markdown",
   "metadata": {
    "id": "Qw8XOA4_Bzgy"
   },
   "source": [
    "Using the partial() function to define a thin wrapper\n",
    "around the Conv2D class, called DefaultConv2D: it simply avoids having to repeat the same hyperparameter values over and over again."
   ]
  },
  {
   "cell_type": "code",
   "execution_count": null,
   "metadata": {
    "id": "DwzfKFLgAxLC"
   },
   "outputs": [],
   "source": [
    "\n",
    "from functools import partial\n",
    "\n",
    "DefaultConv2D = partial(keras.layers.Conv2D,\n",
    "                        kernel_size=3, activation=keras.layers.Lambda(lrelu,arguments={'alpha':0.1}), padding=\"SAME\")\n",
    "\n",
    "fashion_model = keras.models.Sequential([\n",
    "    DefaultConv2D(filters=64, kernel_size=7, input_shape=[28, 28, 1]),\n",
    "    keras.layers.MaxPooling2D(pool_size=2),\n",
    "    DefaultConv2D(filters=128),\n",
    "    DefaultConv2D(filters=128),\n",
    "    keras.layers.MaxPooling2D(pool_size=2),\n",
    "    DefaultConv2D(filters=256),\n",
    "    DefaultConv2D(filters=256),\n",
    "    keras.layers.MaxPooling2D(pool_size=2),\n",
    "    keras.layers.Flatten(),\n",
    "    keras.layers.Dense(units=128, activation='relu'),\n",
    "    keras.layers.Dropout(0.5),\n",
    "    keras.layers.Dense(units=64, activation='relu'),\n",
    "    keras.layers.Dropout(0.5),\n",
    "    keras.layers.Dense(units=10, activation='softmax'),\n",
    "])"
   ]
  },
  {
   "cell_type": "code",
   "execution_count": null,
   "metadata": {
    "id": "nJiSK2nxCHSS"
   },
   "outputs": [],
   "source": [
    "fashion_model.compile(loss=keras.losses.categorical_crossentropy, optimizer=keras.optimizers.Adam(),metrics=['accuracy'])"
   ]
  },
  {
   "cell_type": "code",
   "execution_count": null,
   "metadata": {
    "colab": {
     "base_uri": "https://localhost:8080/"
    },
    "id": "dXvfUFFGDIRR",
    "outputId": "457ea53e-ae59-4dfd-e78c-fd5fa4d43da6"
   },
   "outputs": [],
   "source": [
    "epochs = 20\n",
    "fashion_train_dropout = fashion_model.fit(train_X, train_label, batch_size=batch_size,epochs=epochs,verbose=1,validation_data=(valid_X, valid_label))"
   ]
  },
  {
   "cell_type": "code",
   "execution_count": null,
   "metadata": {
    "colab": {
     "base_uri": "https://localhost:8080/"
    },
    "id": "ljmmHewgEZdj",
    "outputId": "f6ae8b0d-3dc1-4951-e098-637b5859bf85"
   },
   "outputs": [],
   "source": [
    "test_eval = fashion_model.evaluate(test_X, test_Y_one_hot, verbose=1)\n",
    "print('Test loss:', test_eval[0])\n",
    "print('Test accuracy:', test_eval[1])"
   ]
  },
  {
   "cell_type": "code",
   "execution_count": null,
   "metadata": {
    "colab": {
     "base_uri": "https://localhost:8080/",
     "height": 545
    },
    "id": "X5kqJKp7E4dL",
    "outputId": "e8c12c79-efcb-40dd-87e7-37e1da2c85ba"
   },
   "outputs": [],
   "source": [
    "accuracy = fashion_train_dropout.history['accuracy']\n",
    "val_accuracy = fashion_train_dropout.history['val_accuracy']\n",
    "loss = fashion_train_dropout.history['loss']\n",
    "val_loss = fashion_train_dropout.history['val_loss']\n",
    "epochs = range(len(accuracy))\n",
    "plt.plot(epochs, accuracy, 'bo', label='Training accuracy')\n",
    "plt.plot(epochs, val_accuracy, 'b', label='Validation accuracy')\n",
    "plt.title('Training and validation accuracy')\n",
    "plt.legend()\n",
    "plt.figure()\n",
    "plt.plot(epochs, loss, 'bo', label='Training loss')\n",
    "plt.plot(epochs, val_loss, 'b', label='Validation loss')\n",
    "plt.title('Training and validation loss')\n",
    "plt.legend()\n",
    "plt.show()"
   ]
  },
  {
   "cell_type": "markdown",
   "metadata": {
    "id": "9ybUnye4UGTo"
   },
   "source": [
    "## [Conv1D](https://keras.io/api/layers/convolution_layers/convolution1d/)"
   ]
  },
  {
   "cell_type": "code",
   "execution_count": null,
   "metadata": {
    "id": "keyfCF8PUFLm"
   },
   "outputs": [],
   "source": [
    "from tensorflow import keras\n",
    "from keras.models import Sequential\n",
    "from keras.layers import Dense, Conv1D, Flatten, MaxPooling1D,AveragePooling1D\n",
    "from sklearn.model_selection import train_test_split\n",
    "from sklearn.metrics import confusion_matrix\n",
    "from sklearn.datasets import load_iris\n",
    "from numpy import unique"
   ]
  },
  {
   "cell_type": "code",
   "execution_count": null,
   "metadata": {
    "colab": {
     "base_uri": "https://localhost:8080/"
    },
    "id": "A-6nAwP3U_wo",
    "outputId": "9049a95d-b308-4867-b8b0-018955a3175e"
   },
   "outputs": [],
   "source": [
    "iris = load_iris()\n",
    "x, y = iris.data, iris.target\n",
    "print(x.shape)\n"
   ]
  },
  {
   "cell_type": "code",
   "execution_count": null,
   "metadata": {
    "colab": {
     "base_uri": "https://localhost:8080/"
    },
    "id": "f-TNsqlzVIFZ",
    "outputId": "186c3f38-5c1a-42cf-e4ea-d8ac8a11b4dc"
   },
   "outputs": [],
   "source": [
    "x = x.reshape(x.shape[0], x.shape[1], 1)\n",
    "print(x.shape)"
   ]
  },
  {
   "cell_type": "code",
   "execution_count": null,
   "metadata": {
    "colab": {
     "base_uri": "https://localhost:8080/"
    },
    "id": "kIl6fn_qVd7b",
    "outputId": "212296fd-24c8-43ad-e4a5-f91e6d42900a"
   },
   "outputs": [],
   "source": [
    "print(unique(y))\n",
    "print(unique(y).sum())"
   ]
  },
  {
   "cell_type": "code",
   "execution_count": null,
   "metadata": {
    "id": "a8SJgI9nVjhQ"
   },
   "outputs": [],
   "source": [
    "xtrain, xtest, ytrain, ytest=train_test_split(x, y, test_size=0.15)"
   ]
  },
  {
   "cell_type": "code",
   "execution_count": null,
   "metadata": {
    "colab": {
     "base_uri": "https://localhost:8080/"
    },
    "id": "W-wWzNICVsdV",
    "outputId": "9623c715-f67a-465e-ed5a-0d48e03852eb"
   },
   "outputs": [],
   "source": [
    "model = Sequential()\n",
    "model.add(Conv1D(64, 2, activation=\"relu\", input_shape=(4,1)))\n",
    "model.add(Conv1D(128,2, activation=\"relu\"))\n",
    "#model.add(MaxPooling1D())\n",
    "model.add(AveragePooling1D())\n",
    "model.add(Flatten())\n",
    "model.add(Dense(3, activation = 'softmax'))\n",
    "model.compile(loss = 'sparse_categorical_crossentropy', optimizer = \"adam\", metrics = ['accuracy'])\n",
    "model.summary()"
   ]
  },
  {
   "cell_type": "code",
   "execution_count": null,
   "metadata": {
    "colab": {
     "base_uri": "https://localhost:8080/"
    },
    "id": "Dv9tYT1dbJk3",
    "outputId": "01c48401-b7ed-4197-a21b-2db74c2074ec"
   },
   "outputs": [],
   "source": [
    "model.fit(xtrain, ytrain, batch_size=16,epochs=100, verbose=0)\n",
    "\n",
    "acc = model.evaluate(xtrain, ytrain)\n",
    "print(\"Loss:\", acc[0], \" Accuracy:\", acc[1])\n",
    "\n",
    "pred = model.predict(xtest)\n",
    "pred_y = pred.argmax(axis=-1) # The index that will be returned by argmax will be taken from the last axis."
   ]
  },
  {
   "cell_type": "code",
   "execution_count": null,
   "metadata": {
    "colab": {
     "base_uri": "https://localhost:8080/"
    },
    "id": "mJGuPpwPbTre",
    "outputId": "0baa61f1-ea54-462f-c500-bacabde284f6"
   },
   "outputs": [],
   "source": [
    "pred_y"
   ]
  },
  {
   "cell_type": "code",
   "execution_count": null,
   "metadata": {
    "colab": {
     "base_uri": "https://localhost:8080/"
    },
    "id": "CvsB2lMWbvwK",
    "outputId": "f9baec1c-866c-4dba-a390-35fbf52ca880"
   },
   "outputs": [],
   "source": [
    "cm = confusion_matrix(ytest, pred_y)\n",
    "print(cm)"
   ]
  },
  {
   "cell_type": "code",
   "execution_count": null,
   "metadata": {
    "colab": {
     "base_uri": "https://localhost:8080/"
    },
    "id": "vcaSWwyfdROq",
    "outputId": "83e741d2-096d-4993-9be8-22485e7732f4"
   },
   "outputs": [],
   "source": [
    "# The known number of output classes.\n",
    "num_classes = 3\n",
    "\n",
    "model = Sequential()\n",
    "model.add(Conv1D(64, 3, activation=\"relu\", input_shape=(4,1)))\n",
    "model.add(AveragePooling1D())\n",
    "model.add(Conv1D(32,1, activation=\"relu\"))\n",
    "model.add(Flatten())\n",
    "model.add(Dense(128, activation='relu'))\n",
    "model.add(Dense(num_classes, activation='softmax'))\n",
    "\n",
    "model.compile(loss=keras.losses.categorical_crossentropy,\n",
    "              optimizer=keras.optimizers.Adadelta(),\n",
    "              metrics=['accuracy'])\n",
    "\n",
    "model.summary()"
   ]
  },
  {
   "cell_type": "code",
   "execution_count": null,
   "metadata": {
    "id": "QBHPw4WXekP9"
   },
   "outputs": [],
   "source": [
    "# Convert class vectors to binary class matrices. This uses 1 hot encoding.\n",
    "y_train_binary = keras.utils.to_categorical(ytrain, num_classes)\n",
    "y_test_binary = keras.utils.to_categorical(ytest, num_classes)"
   ]
  },
  {
   "cell_type": "code",
   "execution_count": null,
   "metadata": {
    "colab": {
     "base_uri": "https://localhost:8080/"
    },
    "id": "oMFBJ0rNe12q",
    "outputId": "97d18fbc-4dd0-46d8-88b9-3295de531de6"
   },
   "outputs": [],
   "source": [
    "batch_size = 256\n",
    "epochs = 500\n",
    "model = model.fit(xtrain, y_train_binary,\n",
    "          batch_size=batch_size,\n",
    "          epochs=epochs,\n",
    "          verbose=1,\n",
    "          validation_data=(xtest, y_test_binary))"
   ]
  },
  {
   "cell_type": "code",
   "execution_count": null,
   "metadata": {
    "colab": {
     "base_uri": "https://localhost:8080/",
     "height": 295
    },
    "id": "hHqO6a9TffqM",
    "outputId": "34136abe-844c-4645-a236-99ef905f8ac7"
   },
   "outputs": [],
   "source": [
    "%matplotlib inline\n",
    "import matplotlib.pyplot as plt\n",
    "plt.plot(model.history['loss'])\n",
    "plt.plot(model.history['val_loss'])\n",
    "plt.title('model train vs validation loss')\n",
    "plt.ylabel('loss')\n",
    "plt.xlabel('epoch')\n",
    "plt.legend(['train', 'validation'], loc='upper right')\n",
    "plt.show()\n"
   ]
  }
 ],
 "metadata": {
  "accelerator": "GPU",
  "colab": {
   "collapsed_sections": [],
   "name": "Copy of Convolutional Neural Networks (CNN)_03022021.ipynb",
   "provenance": []
  },
  "kernelspec": {
   "display_name": "Python 3 (ipykernel)",
   "language": "python",
   "name": "python3"
  },
  "language_info": {
   "codemirror_mode": {
    "name": "ipython",
    "version": 3
   },
   "file_extension": ".py",
   "mimetype": "text/x-python",
   "name": "python",
   "nbconvert_exporter": "python",
   "pygments_lexer": "ipython3",
   "version": "3.9.7"
  }
 },
 "nbformat": 4,
 "nbformat_minor": 4
}
